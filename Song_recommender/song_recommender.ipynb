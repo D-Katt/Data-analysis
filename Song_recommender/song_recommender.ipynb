{
 "cells": [
  {
   "cell_type": "markdown",
   "metadata": {},
   "source": [
    "Код содержит алгоритмы для рекомендации пользователям музыкальных композиций на основе общего рейтинга популярности песен и индивидуальных предпочтений позователей, определеяемых на основе предшествующей истории прослушиваний.\n",
    "Алгоритмы реализованы в формате класса Recommender() с несколькими методами."
   ]
  },
  {
   "cell_type": "code",
   "execution_count": 1,
   "metadata": {},
   "outputs": [],
   "source": [
    "import pandas as pd\n",
    "import numpy as np\n",
    "import random"
   ]
  },
  {
   "cell_type": "code",
   "execution_count": 2,
   "metadata": {},
   "outputs": [
    {
     "data": {
      "text/plain": [
       "(2000000, 3)"
      ]
     },
     "execution_count": 2,
     "metadata": {},
     "output_type": "execute_result"
    }
   ],
   "source": [
    "# Файл с данными по ID пользователя, ID песни и количеству прослушиваний:\n",
    "listening_data = 'https://static.turi.com/datasets/millionsong/10000.txt'\n",
    "song_df = pd.read_table(listening_data, header=None, names = ['user_id', 'song_id', 'listenings'])\n",
    "song_df.shape"
   ]
  },
  {
   "cell_type": "code",
   "execution_count": 3,
   "metadata": {},
   "outputs": [
    {
     "data": {
      "text/html": [
       "<div>\n",
       "<style scoped>\n",
       "    .dataframe tbody tr th:only-of-type {\n",
       "        vertical-align: middle;\n",
       "    }\n",
       "\n",
       "    .dataframe tbody tr th {\n",
       "        vertical-align: top;\n",
       "    }\n",
       "\n",
       "    .dataframe thead th {\n",
       "        text-align: right;\n",
       "    }\n",
       "</style>\n",
       "<table border=\"1\" class=\"dataframe\">\n",
       "  <thead>\n",
       "    <tr style=\"text-align: right;\">\n",
       "      <th></th>\n",
       "      <th>user_id</th>\n",
       "      <th>song_id</th>\n",
       "      <th>listenings</th>\n",
       "    </tr>\n",
       "  </thead>\n",
       "  <tbody>\n",
       "    <tr>\n",
       "      <td>0</td>\n",
       "      <td>b80344d063b5ccb3212f76538f3d9e43d87dca9e</td>\n",
       "      <td>SOAKIMP12A8C130995</td>\n",
       "      <td>1</td>\n",
       "    </tr>\n",
       "    <tr>\n",
       "      <td>1</td>\n",
       "      <td>b80344d063b5ccb3212f76538f3d9e43d87dca9e</td>\n",
       "      <td>SOBBMDR12A8C13253B</td>\n",
       "      <td>2</td>\n",
       "    </tr>\n",
       "    <tr>\n",
       "      <td>2</td>\n",
       "      <td>b80344d063b5ccb3212f76538f3d9e43d87dca9e</td>\n",
       "      <td>SOBXHDL12A81C204C0</td>\n",
       "      <td>1</td>\n",
       "    </tr>\n",
       "    <tr>\n",
       "      <td>3</td>\n",
       "      <td>b80344d063b5ccb3212f76538f3d9e43d87dca9e</td>\n",
       "      <td>SOBYHAJ12A6701BF1D</td>\n",
       "      <td>1</td>\n",
       "    </tr>\n",
       "    <tr>\n",
       "      <td>4</td>\n",
       "      <td>b80344d063b5ccb3212f76538f3d9e43d87dca9e</td>\n",
       "      <td>SODACBL12A8C13C273</td>\n",
       "      <td>1</td>\n",
       "    </tr>\n",
       "  </tbody>\n",
       "</table>\n",
       "</div>"
      ],
      "text/plain": [
       "                                    user_id             song_id  listenings\n",
       "0  b80344d063b5ccb3212f76538f3d9e43d87dca9e  SOAKIMP12A8C130995           1\n",
       "1  b80344d063b5ccb3212f76538f3d9e43d87dca9e  SOBBMDR12A8C13253B           2\n",
       "2  b80344d063b5ccb3212f76538f3d9e43d87dca9e  SOBXHDL12A81C204C0           1\n",
       "3  b80344d063b5ccb3212f76538f3d9e43d87dca9e  SOBYHAJ12A6701BF1D           1\n",
       "4  b80344d063b5ccb3212f76538f3d9e43d87dca9e  SODACBL12A8C13C273           1"
      ]
     },
     "execution_count": 3,
     "metadata": {},
     "output_type": "execute_result"
    }
   ],
   "source": [
    "# Верх 1-й таблицы:\n",
    "song_df.head()"
   ]
  },
  {
   "cell_type": "code",
   "execution_count": 4,
   "metadata": {},
   "outputs": [
    {
     "data": {
      "text/plain": [
       "(1000000, 5)"
      ]
     },
     "execution_count": 4,
     "metadata": {},
     "output_type": "execute_result"
    }
   ],
   "source": [
    "# Файл с данными о песнях и исполнителях:\n",
    "song_data = 'https://static.turi.com/datasets/millionsong/song_data.csv'\n",
    "song_df_2 =  pd.read_csv(song_data)\n",
    "song_df_2.shape"
   ]
  },
  {
   "cell_type": "code",
   "execution_count": 5,
   "metadata": {},
   "outputs": [
    {
     "data": {
      "text/html": [
       "<div>\n",
       "<style scoped>\n",
       "    .dataframe tbody tr th:only-of-type {\n",
       "        vertical-align: middle;\n",
       "    }\n",
       "\n",
       "    .dataframe tbody tr th {\n",
       "        vertical-align: top;\n",
       "    }\n",
       "\n",
       "    .dataframe thead th {\n",
       "        text-align: right;\n",
       "    }\n",
       "</style>\n",
       "<table border=\"1\" class=\"dataframe\">\n",
       "  <thead>\n",
       "    <tr style=\"text-align: right;\">\n",
       "      <th></th>\n",
       "      <th>song_id</th>\n",
       "      <th>title</th>\n",
       "      <th>release</th>\n",
       "      <th>artist_name</th>\n",
       "      <th>year</th>\n",
       "    </tr>\n",
       "  </thead>\n",
       "  <tbody>\n",
       "    <tr>\n",
       "      <td>0</td>\n",
       "      <td>SOQMMHC12AB0180CB8</td>\n",
       "      <td>Silent Night</td>\n",
       "      <td>Monster Ballads X-Mas</td>\n",
       "      <td>Faster Pussy cat</td>\n",
       "      <td>2003</td>\n",
       "    </tr>\n",
       "    <tr>\n",
       "      <td>1</td>\n",
       "      <td>SOVFVAK12A8C1350D9</td>\n",
       "      <td>Tanssi vaan</td>\n",
       "      <td>Karkuteillä</td>\n",
       "      <td>Karkkiautomaatti</td>\n",
       "      <td>1995</td>\n",
       "    </tr>\n",
       "    <tr>\n",
       "      <td>2</td>\n",
       "      <td>SOGTUKN12AB017F4F1</td>\n",
       "      <td>No One Could Ever</td>\n",
       "      <td>Butter</td>\n",
       "      <td>Hudson Mohawke</td>\n",
       "      <td>2006</td>\n",
       "    </tr>\n",
       "    <tr>\n",
       "      <td>3</td>\n",
       "      <td>SOBNYVR12A8C13558C</td>\n",
       "      <td>Si Vos Querés</td>\n",
       "      <td>De Culo</td>\n",
       "      <td>Yerba Brava</td>\n",
       "      <td>2003</td>\n",
       "    </tr>\n",
       "    <tr>\n",
       "      <td>4</td>\n",
       "      <td>SOHSBXH12A8C13B0DF</td>\n",
       "      <td>Tangle Of Aspens</td>\n",
       "      <td>Rene Ablaze Presents Winter Sessions</td>\n",
       "      <td>Der Mystic</td>\n",
       "      <td>0</td>\n",
       "    </tr>\n",
       "  </tbody>\n",
       "</table>\n",
       "</div>"
      ],
      "text/plain": [
       "              song_id              title  \\\n",
       "0  SOQMMHC12AB0180CB8       Silent Night   \n",
       "1  SOVFVAK12A8C1350D9        Tanssi vaan   \n",
       "2  SOGTUKN12AB017F4F1  No One Could Ever   \n",
       "3  SOBNYVR12A8C13558C      Si Vos Querés   \n",
       "4  SOHSBXH12A8C13B0DF   Tangle Of Aspens   \n",
       "\n",
       "                                release       artist_name  year  \n",
       "0                 Monster Ballads X-Mas  Faster Pussy cat  2003  \n",
       "1                           Karkuteillä  Karkkiautomaatti  1995  \n",
       "2                                Butter    Hudson Mohawke  2006  \n",
       "3                               De Culo       Yerba Brava  2003  \n",
       "4  Rene Ablaze Presents Winter Sessions        Der Mystic     0  "
      ]
     },
     "execution_count": 5,
     "metadata": {},
     "output_type": "execute_result"
    }
   ],
   "source": [
    "# Верх 2-й таблицы:\n",
    "song_df_2.head()"
   ]
  },
  {
   "cell_type": "code",
   "execution_count": 6,
   "metadata": {},
   "outputs": [
    {
     "data": {
      "text/plain": [
       "(2000000, 7)"
      ]
     },
     "execution_count": 6,
     "metadata": {},
     "output_type": "execute_result"
    }
   ],
   "source": [
    "# Объединяем данные в общую базу по ID песни (некоторые строки имеют повторяющиеся 'song_id'):\n",
    "song_df = pd.merge(song_df, song_df_2.drop_duplicates(['song_id']), on='song_id', how='left')\n",
    "song_df.shape"
   ]
  },
  {
   "cell_type": "code",
   "execution_count": 7,
   "metadata": {},
   "outputs": [],
   "source": [
    "# Устраняем техническую ошибку в базе (заменяем значения 0 в столбце 'year' на np.nan):\n",
    "song_df.loc[song_df['year'] == 0, 'year'] = np.nan"
   ]
  },
  {
   "cell_type": "code",
   "execution_count": 8,
   "metadata": {},
   "outputs": [
    {
     "data": {
      "text/html": [
       "<div>\n",
       "<style scoped>\n",
       "    .dataframe tbody tr th:only-of-type {\n",
       "        vertical-align: middle;\n",
       "    }\n",
       "\n",
       "    .dataframe tbody tr th {\n",
       "        vertical-align: top;\n",
       "    }\n",
       "\n",
       "    .dataframe thead th {\n",
       "        text-align: right;\n",
       "    }\n",
       "</style>\n",
       "<table border=\"1\" class=\"dataframe\">\n",
       "  <thead>\n",
       "    <tr style=\"text-align: right;\">\n",
       "      <th></th>\n",
       "      <th>user_id</th>\n",
       "      <th>song_id</th>\n",
       "      <th>listenings</th>\n",
       "      <th>title</th>\n",
       "      <th>release</th>\n",
       "      <th>artist_name</th>\n",
       "      <th>year</th>\n",
       "    </tr>\n",
       "  </thead>\n",
       "  <tbody>\n",
       "    <tr>\n",
       "      <td>0</td>\n",
       "      <td>b80344d063b5ccb3212f76538f3d9e43d87dca9e</td>\n",
       "      <td>SOAKIMP12A8C130995</td>\n",
       "      <td>1</td>\n",
       "      <td>The Cove</td>\n",
       "      <td>Thicker Than Water</td>\n",
       "      <td>Jack Johnson</td>\n",
       "      <td>NaN</td>\n",
       "    </tr>\n",
       "    <tr>\n",
       "      <td>1</td>\n",
       "      <td>b80344d063b5ccb3212f76538f3d9e43d87dca9e</td>\n",
       "      <td>SOBBMDR12A8C13253B</td>\n",
       "      <td>2</td>\n",
       "      <td>Entre Dos Aguas</td>\n",
       "      <td>Flamenco Para Niños</td>\n",
       "      <td>Paco De Lucia</td>\n",
       "      <td>1976.0</td>\n",
       "    </tr>\n",
       "    <tr>\n",
       "      <td>2</td>\n",
       "      <td>b80344d063b5ccb3212f76538f3d9e43d87dca9e</td>\n",
       "      <td>SOBXHDL12A81C204C0</td>\n",
       "      <td>1</td>\n",
       "      <td>Stronger</td>\n",
       "      <td>Graduation</td>\n",
       "      <td>Kanye West</td>\n",
       "      <td>2007.0</td>\n",
       "    </tr>\n",
       "    <tr>\n",
       "      <td>3</td>\n",
       "      <td>b80344d063b5ccb3212f76538f3d9e43d87dca9e</td>\n",
       "      <td>SOBYHAJ12A6701BF1D</td>\n",
       "      <td>1</td>\n",
       "      <td>Constellations</td>\n",
       "      <td>In Between Dreams</td>\n",
       "      <td>Jack Johnson</td>\n",
       "      <td>2005.0</td>\n",
       "    </tr>\n",
       "    <tr>\n",
       "      <td>4</td>\n",
       "      <td>b80344d063b5ccb3212f76538f3d9e43d87dca9e</td>\n",
       "      <td>SODACBL12A8C13C273</td>\n",
       "      <td>1</td>\n",
       "      <td>Learn To Fly</td>\n",
       "      <td>There Is Nothing Left To Lose</td>\n",
       "      <td>Foo Fighters</td>\n",
       "      <td>1999.0</td>\n",
       "    </tr>\n",
       "  </tbody>\n",
       "</table>\n",
       "</div>"
      ],
      "text/plain": [
       "                                    user_id             song_id  listenings  \\\n",
       "0  b80344d063b5ccb3212f76538f3d9e43d87dca9e  SOAKIMP12A8C130995           1   \n",
       "1  b80344d063b5ccb3212f76538f3d9e43d87dca9e  SOBBMDR12A8C13253B           2   \n",
       "2  b80344d063b5ccb3212f76538f3d9e43d87dca9e  SOBXHDL12A81C204C0           1   \n",
       "3  b80344d063b5ccb3212f76538f3d9e43d87dca9e  SOBYHAJ12A6701BF1D           1   \n",
       "4  b80344d063b5ccb3212f76538f3d9e43d87dca9e  SODACBL12A8C13C273           1   \n",
       "\n",
       "             title                        release    artist_name    year  \n",
       "0         The Cove             Thicker Than Water   Jack Johnson     NaN  \n",
       "1  Entre Dos Aguas            Flamenco Para Niños  Paco De Lucia  1976.0  \n",
       "2         Stronger                     Graduation     Kanye West  2007.0  \n",
       "3   Constellations              In Between Dreams   Jack Johnson  2005.0  \n",
       "4     Learn To Fly  There Is Nothing Left To Lose   Foo Fighters  1999.0  "
      ]
     },
     "execution_count": 8,
     "metadata": {},
     "output_type": "execute_result"
    }
   ],
   "source": [
    "# Верх объединенной таблицы:\n",
    "song_df.head()"
   ]
  },
  {
   "cell_type": "code",
   "execution_count": 9,
   "metadata": {},
   "outputs": [
    {
     "data": {
      "text/html": [
       "<div>\n",
       "<style scoped>\n",
       "    .dataframe tbody tr th:only-of-type {\n",
       "        vertical-align: middle;\n",
       "    }\n",
       "\n",
       "    .dataframe tbody tr th {\n",
       "        vertical-align: top;\n",
       "    }\n",
       "\n",
       "    .dataframe thead th {\n",
       "        text-align: right;\n",
       "    }\n",
       "</style>\n",
       "<table border=\"1\" class=\"dataframe\">\n",
       "  <thead>\n",
       "    <tr style=\"text-align: right;\">\n",
       "      <th></th>\n",
       "      <th>artist_name</th>\n",
       "      <th>title</th>\n",
       "      <th>listenings</th>\n",
       "    </tr>\n",
       "  </thead>\n",
       "  <tbody>\n",
       "    <tr>\n",
       "      <td>0</td>\n",
       "      <td>Dwight Yoakam</td>\n",
       "      <td>You're The One</td>\n",
       "      <td>54136</td>\n",
       "    </tr>\n",
       "    <tr>\n",
       "      <td>1</td>\n",
       "      <td>Björk</td>\n",
       "      <td>Undo</td>\n",
       "      <td>49253</td>\n",
       "    </tr>\n",
       "    <tr>\n",
       "      <td>2</td>\n",
       "      <td>Kings Of Leon</td>\n",
       "      <td>Revelry</td>\n",
       "      <td>41418</td>\n",
       "    </tr>\n",
       "    <tr>\n",
       "      <td>3</td>\n",
       "      <td>Barry Tuckwell/Academy of St Martin-in-the-Fie...</td>\n",
       "      <td>Horn Concerto No. 4 in E flat K495: II. Romanc...</td>\n",
       "      <td>31153</td>\n",
       "    </tr>\n",
       "    <tr>\n",
       "      <td>4</td>\n",
       "      <td>Harmonia</td>\n",
       "      <td>Sehr kosmisch</td>\n",
       "      <td>31036</td>\n",
       "    </tr>\n",
       "    <tr>\n",
       "      <td>5</td>\n",
       "      <td>Florence + The Machine</td>\n",
       "      <td>Dog Days Are Over (Radio Edit)</td>\n",
       "      <td>26663</td>\n",
       "    </tr>\n",
       "    <tr>\n",
       "      <td>6</td>\n",
       "      <td>OneRepublic</td>\n",
       "      <td>Secrets</td>\n",
       "      <td>22100</td>\n",
       "    </tr>\n",
       "    <tr>\n",
       "      <td>7</td>\n",
       "      <td>Five Iron Frenzy</td>\n",
       "      <td>Canada</td>\n",
       "      <td>21019</td>\n",
       "    </tr>\n",
       "    <tr>\n",
       "      <td>8</td>\n",
       "      <td>Tub Ring</td>\n",
       "      <td>Invalid</td>\n",
       "      <td>19645</td>\n",
       "    </tr>\n",
       "    <tr>\n",
       "      <td>9</td>\n",
       "      <td>Sam Cooke</td>\n",
       "      <td>Ain't Misbehavin</td>\n",
       "      <td>18309</td>\n",
       "    </tr>\n",
       "  </tbody>\n",
       "</table>\n",
       "</div>"
      ],
      "text/plain": [
       "                                         artist_name  \\\n",
       "0                                      Dwight Yoakam   \n",
       "1                                              Björk   \n",
       "2                                      Kings Of Leon   \n",
       "3  Barry Tuckwell/Academy of St Martin-in-the-Fie...   \n",
       "4                                           Harmonia   \n",
       "5                             Florence + The Machine   \n",
       "6                                        OneRepublic   \n",
       "7                                   Five Iron Frenzy   \n",
       "8                                           Tub Ring   \n",
       "9                                          Sam Cooke   \n",
       "\n",
       "                                               title  listenings  \n",
       "0                                     You're The One       54136  \n",
       "1                                               Undo       49253  \n",
       "2                                            Revelry       41418  \n",
       "3  Horn Concerto No. 4 in E flat K495: II. Romanc...       31153  \n",
       "4                                      Sehr kosmisch       31036  \n",
       "5                     Dog Days Are Over (Radio Edit)       26663  \n",
       "6                                            Secrets       22100  \n",
       "7                                             Canada       21019  \n",
       "8                                            Invalid       19645  \n",
       "9                                   Ain't Misbehavin       18309  "
      ]
     },
     "execution_count": 9,
     "metadata": {},
     "output_type": "execute_result"
    }
   ],
   "source": [
    "# Создаем базу песен, отсортированных по общему числу прослушиваний:\n",
    "popular_df = song_df.groupby(['artist_name', 'title']).agg({'listenings': 'sum'}).reset_index()\n",
    "popular_df.sort_values(by='listenings', ascending=False, inplace=True)\n",
    "popular_df.reset_index(inplace=True, drop=True)\n",
    "popular_df.head(10)"
   ]
  },
  {
   "cell_type": "code",
   "execution_count": 10,
   "metadata": {},
   "outputs": [
    {
     "name": "stdout",
     "output_type": "stream",
     "text": [
      "76353\n"
     ]
    }
   ],
   "source": [
    "# Список всех пользователей:\n",
    "users = song_df['user_id'].unique()\n",
    "print(len(users))"
   ]
  },
  {
   "cell_type": "code",
   "execution_count": 11,
   "metadata": {},
   "outputs": [
    {
     "name": "stdout",
     "output_type": "stream",
     "text": [
      "10000\n"
     ]
    }
   ],
   "source": [
    "# Список всех песен:\n",
    "songs = song_df['song_id'].unique()\n",
    "print(len(songs))"
   ]
  },
  {
   "cell_type": "code",
   "execution_count": 12,
   "metadata": {},
   "outputs": [],
   "source": [
    "class Recommender():\n",
    "    \"\"\"Класс позволяет формировать списки рекомендуемых пользователям песен\n",
    "    на основе общего рейтинга популярности и предшествующей истории прослушиваний пользователя.\n",
    "    После создания экземпляра класса необходимо вызвать функцию create_user(),\n",
    "    передав ей ID текущего пользователя: это обновит атрибуты класса.\n",
    "    Функцию можно вызывать многократно.\n",
    "    Список рекомендуемых песен для текущего пользователя формируется\n",
    "    через вызов одной из пяти функция: by_popularity(), by_singers(),\n",
    "    by_release(), by_similar_users() и by_period().\"\"\"\n",
    "    \n",
    "    def __init__(self):\n",
    "        \"\"\"Инициализация экземпляра класса не требует передачи параметров.\n",
    "        Атрибуты класса задаются при вызове функции create_user()\n",
    "        и относятся к текущему пользователю. Методы класса производят\n",
    "        операции фильтрации и сортировки на двух датафреймах,\n",
    "        присвоенных ранее глобальным переменным 'song_df' и 'popular_df'.\"\"\"\n",
    "        self.user = None  # ID текущего пользователя\n",
    "        self.user_data = None  # база прослушиваний пользователя\n",
    "        self.singers = None  # исполнители, прослушанные пользователем\n",
    "        self.songs = None  # песни, прослушанные пользователем\n",
    "        self.time_start = None  # нижняя граница временного интервала прослушанных песен\n",
    "        self.time_finish = None  # верхняя граница временного интервала прослушанных песен\n",
    "        self.similar_users = None  # список пользователей с похожей историей прослушиваний\n",
    "    \n",
    "    def create_user(self, user_id):\n",
    "        \"\"\"Функция принимает ID пользователя и задает соответствующие ему атрибуты класса.\n",
    "        Выводит на экран основные сведения о текущем пользователе: ID, прослушанные песни,\n",
    "        исполнители, временной интервал, список похожих пользователей.\"\"\"\n",
    "        self.user = user_id\n",
    "        # Фильтруем глобальную базу по ID текущего пользователя:\n",
    "        self.user_data = song_df.loc[song_df['user_id'] == self.user, :].sort_values(by='listenings')\n",
    "        \n",
    "        # Составляем список исполнителей, которых прослушал пользователь:\n",
    "        self.singers = self.user_data['artist_name'].unique()\n",
    "        # Составляем список песен, которые прослушал пользователь:\n",
    "        self.songs = self.user_data['title'].unique()\n",
    "        \n",
    "        # Самый ранний год выпуска среди песен, прослушанных пользователем:\n",
    "        self.time_start = self.user_data['year'].min()\n",
    "        # Самый поздний год выпуска среди песен, прослушанных пользователем:\n",
    "        self.time_finish = self.user_data['year'].max()\n",
    "        \n",
    "        # Фильтруем глобальную базу по названиям песен из списка self.songs:\n",
    "        song_df_filt = song_df.loc[song_df['title'].isin(self.songs), :].copy()\n",
    "        # Убираем из этой базы текущего пользователя:\n",
    "        song_df_filt = song_df_filt.loc[song_df_filt['user_id'] != self.user, :]\n",
    "        # Создаем столбец для идентицикации совпадающих песен\n",
    "        song_df_filt['matches'] = 0\n",
    "        song_df_filt.loc[song_df_filt['title'].isin(self.songs), 'matches'] = 1\n",
    "        # Группируем данные по ID пользователей с суммированием совпадений:\n",
    "        self.similar_users = song_df_filt.groupby(['user_id']).agg({'matches': 'sum'}).reset_index()\n",
    "        # Оставляем только пользователей, которые слушали не менее 20% репертуара текущего пользователя:\n",
    "        similarity_check = len(self.songs) // 5\n",
    "        self.similar_users = self.similar_users.loc[self.similar_users['matches'] >= similarity_check, 'user_id']\n",
    "        \n",
    "        # Выводим на экран основные сведения о текущем пользователе:\n",
    "        print(f'Текущий пользователь: {self.user}')\n",
    "        print(f'\\nПрослушанные исполнители ({len(self.singers)}):\\n{self.singers}')\n",
    "        print(f'\\nПрослушанные песни ({len(self.songs)} ед.):\\n{self.songs}')\n",
    "        print(f'\\nВременной интервал: с {self.time_start} по {self.time_finish}')\n",
    "        print(f'\\nПохожие пользователи ({len(self.similar_users)} чел.):\\n{self.similar_users}')\n",
    "        \n",
    "    def by_popularity(self, top_limit):\n",
    "        \"\"\"Функция принимает аргумент 'top_limit', определяющий диапазон рейтинга\n",
    "        наиболее популярных песен, среди которых будут выбраны рекомендуемые.\n",
    "        Функция выводит на экран список из 10 случайно подобранных песен,\n",
    "        входящих в рейтинг наиболее популярных по числу прослушиваний.\"\"\"\n",
    "        # В базе 10 тыс. песен. Вводим проверку введенного аргумента на соответствие длине датафрейма:\n",
    "        if top_limit <= len(popular_df):\n",
    "            indexes = [random.randint(0, top_limit - 1) for _ in range(10)]  # 10 случайных чисел от 0 до 'top_limit'\n",
    "        else:  # Если аргумент превышает длину датафрейма, выбираем 10 чисел в пределах существующих индексов:\n",
    "            indexes = [random.randint(0, len(popular_df) - 1) for _ in range(10)]\n",
    "        print(popular_df.loc[indexes, ['artist_name', 'title']])\n",
    "        \n",
    "    def by_singers(self):\n",
    "        \"\"\"Функция выводит на экран список из 10 песен, рекомендуемых пользователю\n",
    "        на основе истории его прослушиваний. Песни выбираются из репертуара исполнителей,\n",
    "        входящих в список 'self.singers' случайным образом и могут повторяться.\"\"\"\n",
    "        # Фильтруем базу песен по исполнителям, которых слушал пользователь:\n",
    "        options = popular_df.loc[popular_df['artist_name'].isin(self.singers), ['artist_name', 'title']]\n",
    "        # Выбираем 10 случайных строк из полученной таблицы:\n",
    "        indexes = [random.randint(0, len(options) - 1) for _ in range(10)]\n",
    "        print(options.iloc[indexes, :])\n",
    "    \n",
    "    def by_release(self):\n",
    "        \"\"\"Функция выводит на экран список из 10 песен, рекомендуемых пользователю\n",
    "        на основе истории его прослушиваний. Выбираются композиции из релизов,\n",
    "        песни из которых пользователь уже слушал. Список формируется случайным образом.\n",
    "        Композиции могут повторяться, особенно если у пользователя ограниченная история прослушиваний.\"\"\"\n",
    "        # Фильтруем базу по песням, которые слушал пользователь, и составляем список релизов:\n",
    "        releases = song_df.loc[song_df['title'].isin(self.songs), 'release'].unique()\n",
    "        # Фильтруем базу песен по релизам:\n",
    "        options = song_df.loc[song_df['release'].isin(releases), ['artist_name', 'title']]\n",
    "        # Выбираем 10 случайных строк из полученной таблицы:\n",
    "        indexes = [random.randint(0, len(options) - 1) for _ in range(10)]\n",
    "        print(options.iloc[indexes, :])\n",
    "    \n",
    "    def by_similar_users(self):\n",
    "        \"\"\"Функция выводит на экран список из 10 песен, рекомендуемых пользователю\n",
    "        на основе истории его прослушиваний. Песни выбираются из числа востребованных\n",
    "        пользователями из списка self.similar_users. Список песен формируется случайным образом.\"\"\"\n",
    "        # Если атрибут 'self.similar_users' содержит значения:\n",
    "        if len(self.similar_users) > 0:\n",
    "            # Фильтруем глобальную базу по списку 'self.similar_users':\n",
    "            options = song_df.loc[song_df['user_id'].isin(self.similar_users), ['artist_name', 'title']]\n",
    "            # Выбираем 10 случайных строк из полученной таблицы:\n",
    "            indexes = [random.randint(0, len(options) - 1) for _ in range(10)]\n",
    "            print(options.iloc[indexes, :])\n",
    "        else:\n",
    "            print('Функция не может быть применена: нет пользователей со схожими предпочтениями.')\n",
    "        \n",
    "    def by_period(self):\n",
    "        \"\"\"Функция выводит на экран список из 10 песен, рекомендуемых пользователю\n",
    "        на основе истории его прослушиваний. Случайным образом выбираются песни, \n",
    "        вышедшие в интервале между self.time_start и self.time_finish.\"\"\"\n",
    "        # Фильтруем глобальную базу по времени выхода песни:\n",
    "        options = song_df.loc[(song_df['year'] >= self.time_start) & (song_df['year'] <= self.time_finish), \n",
    "                              ['artist_name', 'title']]\n",
    "        # Выбираем 10 случайных строк из полученной таблицы:\n",
    "        indexes = [random.randint(0, len(options) - 1) for _ in range(10)]\n",
    "        print(options.iloc[indexes, :])"
   ]
  },
  {
   "cell_type": "code",
   "execution_count": 13,
   "metadata": {},
   "outputs": [],
   "source": [
    "# Создаем экземпляр класса:\n",
    "rec = Recommender()"
   ]
  },
  {
   "cell_type": "code",
   "execution_count": 14,
   "metadata": {},
   "outputs": [
    {
     "name": "stdout",
     "output_type": "stream",
     "text": [
      "Текущий пользователь: b80344d063b5ccb3212f76538f3d9e43d87dca9e\n",
      "\n",
      "Прослушанные исполнители (28):\n",
      "['Jack Johnson' 'Angus & Julia Stone' 'Incubus' 'John Mayer'\n",
      " 'Jimmy Eat World' 'Thievery Corporation' 'King Curtis' 'Band Of Horses'\n",
      " 'Foo Fighters' 'Fleet Foxes' 'Kings Of Leon' 'The String Cheese Incident'\n",
      " 'Sublime' 'Jack Johnson / Paula Fuga' 'Andrew Bird'\n",
      " 'Jack Johnson / Matt Costa / Zach Gill / Dan Lebowitz / Steve Adams'\n",
      " 'Kanye West' 'Lady GaGa' 'Harmonia'\n",
      " 'Thievery Corporation feat. Emiliana Torrini' 'The Lonely Island'\n",
      " \"The B-52's\" 'Jorge Drexler' 'Paco De Lucia' 'Puff Daddy'\n",
      " 'Robert Johnson' 'Héroes del Silencio' 'Panic At The Disco']\n",
      "\n",
      "Прослушанные песни (45 ед.):\n",
      "['The Cove' 'Jewels And Gold' 'Warning' '83' 'Neon' 'The Middle'\n",
      " 'All That We Perceive' 'The Christmas Song  (LP Version)'\n",
      " 'Our Swords (Soundtrack Version)' 'Love Song For No One' 'Are You In?'\n",
      " 'Generator' 'Come Back To Bed' \"He Doesn't Know Why\" 'Trani'\n",
      " \"Bigger Isn't Better\" 'Sun Giant' 'City Love' 'Right Back' 'Drive'\n",
      " 'Country Road' 'Oh No' 'Let It Be Sung' 'Stronger' 'Constellations'\n",
      " 'Learn To Fly' 'Paper Gangsta' 'Stacked Actors' 'Sehr kosmisch'\n",
      " \"Heaven's gonna burn your eyes\" 'Mykonos' 'Holes To Heaven' 'Clarity'\n",
      " 'The Old Saloon' 'Champion' 'Breakout' 'Ragged Wood' 'Love Shack'\n",
      " 'High and dry' 'Entre Dos Aguas'\n",
      " \"I'll Be Missing You (Featuring Faith Evans & 112)(Album Version)\"\n",
      " \"I?'m A Steady Rollin? Man\" \"Apuesta Por El Rock 'N' Roll\"\n",
      " 'Behind The Sea [Live In Chicago]' 'Moonshine']\n",
      "\n",
      "Временной интервал: с 1976.0 по 2009.0\n",
      "\n",
      "Похожие пользователи (15 чел.):\n",
      "3008     2b6e30249c2e2c855a22321a3a524c4ff5aeb49d\n",
      "4349     3f73f44560e822344b0fb7c6b463869743eb9860\n",
      "6861     645c49013ed2fbc501655cad9bd0524a052e18a1\n",
      "7515     6d204eeab161ec346d8ec24307519c71af2f7431\n",
      "7533     6d625c6557df84b60d90426c0116138b617b9449\n",
      "7881     72e2e8ba65ce991fb6f361153d008910f28b1d05\n",
      "8524     7c80116b2a5c6602ca60fc40ef932e12fd304a69\n",
      "9498     8aca61fa48ffd446fa9c1489b77a5c0f6027c001\n",
      "11087    a0f9ee71fbddc17a5738cda52f6ae21e2a0ceca0\n",
      "12734    b8f6072f3795433c31b65d2608c9a86695982fd0\n",
      "13059    be21ec120193effd2a5e545c4bafa2e1f92e9816\n",
      "14841    d8b59ee0a03db7d3d9d632809da88089c6559742\n",
      "15051    dbbfc4a77492765d183f8e952789e905068ac01e\n",
      "16232    ebed25fbe9974a725c2852fd2950053b7edbf86c\n",
      "17290    fa91a437c5e2bc948651e0cc25708c8f5a8c3c18\n",
      "Name: user_id, dtype: object\n"
     ]
    }
   ],
   "source": [
    "# Передаем сведения об ID пользователя:\n",
    "rec.create_user(users[0])  # первый пользователь списка"
   ]
  },
  {
   "cell_type": "code",
   "execution_count": 15,
   "metadata": {},
   "outputs": [
    {
     "name": "stdout",
     "output_type": "stream",
     "text": [
      "           artist_name                                              title\n",
      "84      The Black Keys                                         Tighten Up\n",
      "45          Todd Barry                             Sugar Ray (LP Version)\n",
      "66               B.o.B  Nothin' On You [feat. Bruno Mars] (Album Version)\n",
      "167  Eminem / Dina Rae                                           Superman\n",
      "139   Philippe Rochard                                          Crumpshit\n",
      "65                Muse                                           Uprising\n",
      "61            Bon Jovi                                 Livin' On A Prayer\n",
      "181       Foo Fighters                                      The Pretender\n",
      "20        Bill Withers                             Make Love To Your Mind\n",
      "16             Cartola                                           Tive Sim\n"
     ]
    }
   ],
   "source": [
    "# Выводим список рекомендуемых песен на основе общего рейтинга популярности\n",
    "# среди Топ-200 самых востребованных песен:\n",
    "rec.by_popularity(200)"
   ]
  },
  {
   "cell_type": "code",
   "execution_count": 16,
   "metadata": {},
   "outputs": [
    {
     "name": "stdout",
     "output_type": "stream",
     "text": [
      "               artist_name                              title\n",
      "6588          Foo Fighters                   For All The Cows\n",
      "284           Jack Johnson                          Breakdown\n",
      "9076            Kanye West                   Wake Up Mr. West\n",
      "6545    Panic At The Disco  She Had The World (Album Version)\n",
      "5748  Thievery Corporation                  A Gentle Dissolve\n",
      "93          Band Of Horses        The Funeral (Album Version)\n",
      "181           Foo Fighters                      The Pretender\n",
      "6009   Angus & Julia Stone                   A Book Like This\n",
      "2480         Kings Of Leon                               Milk\n",
      "8516               Incubus                            Vitamin\n"
     ]
    }
   ],
   "source": [
    "# Выводим список рекомендуемых песен на основе истории пользователя\n",
    "# (песни исполнителей, которых пользователь уже слушал):\n",
    "rec.by_singers()"
   ]
  },
  {
   "cell_type": "code",
   "execution_count": 17,
   "metadata": {},
   "outputs": [
    {
     "name": "stdout",
     "output_type": "stream",
     "text": [
      "                 artist_name                title\n",
      "1908201             Harmonia        Sehr kosmisch\n",
      "230528              Harmonia        Sehr kosmisch\n",
      "1669245             Harmonia        Sehr kosmisch\n",
      "955731          Jack Johnson      Do You Remember\n",
      "1407742             Harmonia        Sehr kosmisch\n",
      "428263              Harmonia        Sehr kosmisch\n",
      "908424           Fleet Foxes  Heard Them Stirring\n",
      "1151156  Angus & Julia Stone                Bella\n",
      "283336          Jack Johnson            Breakdown\n",
      "855021             Lady GaGa              Monster\n"
     ]
    }
   ],
   "source": [
    "# Выводим список рекомендуемых песен на основе истории пользователя\n",
    "# (песни из релизов, композиции из которых пользователь уже слушал):\n",
    "rec.by_release()"
   ]
  },
  {
   "cell_type": "code",
   "execution_count": 18,
   "metadata": {},
   "outputs": [
    {
     "name": "stdout",
     "output_type": "stream",
     "text": [
      "                                     artist_name  \\\n",
      "1477840  Aruna Abrams/Ken Hauptman/Jeannie Lurie   \n",
      "1656332                                 Paramore   \n",
      "348609                                Lily Allen   \n",
      "1481501                                  Garbage   \n",
      "790398                          Five Iron Frenzy   \n",
      "1481466                            Michael Bublé   \n",
      "790579                                  Gorillaz   \n",
      "75264                                   Amos Lee   \n",
      "790637                          Enrique Iglesias   \n",
      "1477917                                 Amos Lee   \n",
      "\n",
      "                                      title  \n",
      "1477840               I Got Nerve (Karaoke)  \n",
      "1656332           Emergency (Album Version)  \n",
      "348609                                  LDN  \n",
      "1481501                                Milk  \n",
      "790398                               Canada  \n",
      "1481466  Spider-Man Theme [Junkie XL Remix]  \n",
      "790579        Feel Good Inc (Album Version)  \n",
      "75264                                   Kid  \n",
      "790637                                 Hero  \n",
      "1477917                         Black River  \n"
     ]
    }
   ],
   "source": [
    "# Выводим список рекомендуемых песен на основе истории пользователя\n",
    "# (песни, которые слушали пользователи с похожими предпочтениями):\n",
    "rec.by_similar_users()"
   ]
  },
  {
   "cell_type": "code",
   "execution_count": 19,
   "metadata": {},
   "outputs": [
    {
     "name": "stdout",
     "output_type": "stream",
     "text": [
      "                                          artist_name  \\\n",
      "1821986                                   Young Jeezy   \n",
      "132736                                     Digitalism   \n",
      "1802309                       Beyoncé feat. Slim Thug   \n",
      "11098    Destiny's Child featuring T.I. and Lil Wayne   \n",
      "1804415                                  Eddie Vedder   \n",
      "500145                            Stone Temple Pilots   \n",
      "696922                                  Kings Of Leon   \n",
      "425368                                 Bat For Lashes   \n",
      "1115579                                  Jack Johnson   \n",
      "1149388                             Asking Alexandria   \n",
      "\n",
      "                                                     title  \n",
      "1821986                                    Streets On Lock  \n",
      "132736                                           Home Zone  \n",
      "1802309                                        Check On It  \n",
      "11098                                              Soldier  \n",
      "1804415                                    End Of The Road  \n",
      "500145                    Days Of The Week (Album Version)  \n",
      "696922                                             Revelry  \n",
      "425368                                            A Forest  \n",
      "1115579                                          Breakdown  \n",
      "1149388  I Used To Have A Best Friend (But Then He Gave...  \n"
     ]
    }
   ],
   "source": [
    "# Выводим список рекомендуемых песен, вышедших в период, \n",
    "# совпадающий с историей прослушиваний пользователя:\n",
    "rec.by_period()"
   ]
  },
  {
   "cell_type": "code",
   "execution_count": 20,
   "metadata": {},
   "outputs": [
    {
     "name": "stdout",
     "output_type": "stream",
     "text": [
      "Текущий пользователь: 4eeb2b3849621d81e72010cf6b01147d86220ac7\n",
      "\n",
      "Прослушанные исполнители (9):\n",
      "['Barry Tuckwell/Academy of St Martin-in-the-Fields/Sir Neville Marriner'\n",
      " 'J. Karjalainen & Mustat Lasit' 'J. Holiday' 'Todd Barry' 'The Gerbils'\n",
      " 'Blondie' 'Wiz Khalifa' 'Massive Attack' 'Collie Buddz featuring Roache']\n",
      "\n",
      "Прослушанные песни (9 ед.):\n",
      "['Horn Concerto No. 4 in E flat K495: II. Romance (Andante cantabile)'\n",
      " 'Sinisten tähtien alla' 'Bed' 'Sugar Ray (LP Version)' '(iii)'\n",
      " \"Atomic '98 (Xenomania Mix)\" 'Say Yeah [Radio Edit]'\n",
      " 'Paradise Circus (Gui Boratto Remix)' 'Sensimillia']\n",
      "\n",
      "Временной интервал: с 1998.0 по 2010.0\n",
      "\n",
      "Похожие пользователи (7948 чел.):\n",
      "0       0012bf75d43a724f62dc746d9e85ae0088a3a1d6\n",
      "1       0021d9a4628624f6d70237f9c200ab82e766bf26\n",
      "2       0028292aa536122c1f86fd48a39bd83fe582d27f\n",
      "3       002ddb57d13c2a92fa053498c98c1fcb042acdd2\n",
      "4       0031572620fa7f18487d3ea22935eb28410ecc4c\n",
      "                          ...                   \n",
      "7943    ffe2f99d7f8b034a21fafdc2bb859d3c151d3950\n",
      "7944    ffed85afa9c1eccf05660065400d998000e2e04f\n",
      "7945    fff03efd1550136063389fa71125194614e1c68f\n",
      "7946    fff22417a61c1ba3ee2592b22a052ed6a27a8e91\n",
      "7947    fffce9c1537fbc350ea68823d956eaa8f5236dbe\n",
      "Name: user_id, Length: 7948, dtype: object\n"
     ]
    }
   ],
   "source": [
    "# Передаем сведения об ID другого пользователя:\n",
    "rec.create_user(users[550])"
   ]
  },
  {
   "cell_type": "code",
   "execution_count": 21,
   "metadata": {},
   "outputs": [
    {
     "name": "stdout",
     "output_type": "stream",
     "text": [
      "                       artist_name  \\\n",
      "94  Kid Cudi / Kanye West / Common   \n",
      "42                        Coldplay   \n",
      "50          Florence + The Machine   \n",
      "9                        Sam Cooke   \n",
      "14              Charttraxx Karaoke   \n",
      "79                     The Killers   \n",
      "82                            Muse   \n",
      "91                      Katy Perry   \n",
      "23                      The Crests   \n",
      "38                        Frumpies   \n",
      "\n",
      "                                                title  \n",
      "94                                       Make Her Say  \n",
      "42                                             Yellow  \n",
      "50                                        Cosmic Love  \n",
      "9                                    Ain't Misbehavin  \n",
      "14                                          Fireflies  \n",
      "79                                When You Were Young  \n",
      "82  Supermassive Black Hole (Twilight Soundtrack V...  \n",
      "91                                    I Kissed A Girl  \n",
      "23                                         16 Candles  \n",
      "38                                         Fuck Kitty  \n"
     ]
    }
   ],
   "source": [
    "# Выводим список рекомендуемых песен на основе общего рейтинга популярности\n",
    "# среди Топ-100 самых востребованных песен:\n",
    "rec.by_popularity(100)"
   ]
  },
  {
   "cell_type": "code",
   "execution_count": 22,
   "metadata": {},
   "outputs": [
    {
     "name": "stdout",
     "output_type": "stream",
     "text": [
      "         artist_name                                  title\n",
      "9072  Massive Attack                             Group Four\n",
      "1441      J. Holiday                                    Bed\n",
      "2001     Wiz Khalifa                  Say Yeah [Radio Edit]\n",
      "3311      J. Holiday                              Suffocate\n",
      "208      The Gerbils                                  (iii)\n",
      "45        Todd Barry                 Sugar Ray (LP Version)\n",
      "208      The Gerbils                                  (iii)\n",
      "9356  Massive Attack  Girl I Love You (She is Danger Remix)\n",
      "8716         Blondie                  Fade Away And Radiate\n",
      "9356  Massive Attack  Girl I Love You (She is Danger Remix)\n"
     ]
    }
   ],
   "source": [
    "# Выводим список рекомендуемых песен на основе истории пользователя\n",
    "# (песни исполнителей, которых пользователь уже слушал):\n",
    "rec.by_singers()"
   ]
  },
  {
   "cell_type": "code",
   "execution_count": 23,
   "metadata": {},
   "outputs": [
    {
     "name": "stdout",
     "output_type": "stream",
     "text": [
      "                                               artist_name  \\\n",
      "1273864                                     Massive Attack   \n",
      "805090   Barry Tuckwell/Academy of St Martin-in-the-Fie...   \n",
      "1812550                                         Todd Barry   \n",
      "202574                                      Massive Attack   \n",
      "1676071  Barry Tuckwell/Academy of St Martin-in-the-Fie...   \n",
      "872219   Barry Tuckwell/Academy of St Martin-in-the-Fie...   \n",
      "1955584  Barry Tuckwell/Academy of St Martin-in-the-Fie...   \n",
      "275916                                      Massive Attack   \n",
      "1577026  Barry Tuckwell/Academy of St Martin-in-the-Fie...   \n",
      "586023   Barry Tuckwell/Academy of St Martin-in-the-Fie...   \n",
      "\n",
      "                                                     title  \n",
      "1273864                                        Rush Minute  \n",
      "805090   Horn Concerto No. 4 in E flat K495: II. Romanc...  \n",
      "1812550                             Sugar Ray (LP Version)  \n",
      "202574                                              Psyche  \n",
      "1676071  Horn Concerto No. 4 in E flat K495: II. Romanc...  \n",
      "872219   Horn Concerto No. 4 in E flat K495: II. Romanc...  \n",
      "1955584  Horn Concerto No. 4 in E flat K495: II. Romanc...  \n",
      "275916       Paradise Circus (Breakage's Tight Rope Remix)  \n",
      "1577026  Horn Concerto No. 4 in E flat K495: II. Romanc...  \n",
      "586023   Horn Concerto No. 4 in E flat K495: II. Romanc...  \n"
     ]
    }
   ],
   "source": [
    "# Выводим список рекомендуемых песен на основе истории пользователя\n",
    "# (песни из релизов, композиции из которых пользователь уже слушал):\n",
    "rec.by_release()"
   ]
  },
  {
   "cell_type": "code",
   "execution_count": 24,
   "metadata": {},
   "outputs": [
    {
     "name": "stdout",
     "output_type": "stream",
     "text": [
      "                                               artist_name  \\\n",
      "1561912                                     Olivier Darock   \n",
      "1411289                                 DAVE MATTHEWS BAND   \n",
      "443503                                              Atreyu   \n",
      "114452                                       Amy Winehouse   \n",
      "262389                                                Nile   \n",
      "138508                       J. Karjalainen & Mustat Lasit   \n",
      "222187                                          John Mayer   \n",
      "1320461  Fort Minor [Featuring Holly Brook And Jonah Ma...   \n",
      "1261708                                      Steve Goodman   \n",
      "10163                                              La Roux   \n",
      "\n",
      "                                                     title  \n",
      "1561912                                           Miss You  \n",
      "1411289                           All Along The Watchtower  \n",
      "443503   Five Vicodin Chased With A Shot Of Clarity (Al...  \n",
      "114452                                       Wake Up Alone  \n",
      "262389                          What Can Be Safely Written  \n",
      "138508                               Sinisten tähtien alla  \n",
      "222187                                    Perfectly Lonely  \n",
      "1320461  Where'd You Go (Featuring Holly Brook & Jonah ...  \n",
      "1261708                   What Have You Done For Me Lately  \n",
      "10163                                          Bulletproof  \n"
     ]
    }
   ],
   "source": [
    "# Выводим список рекомендуемых песен на основе истории пользователя\n",
    "# (песни, которые слушали пользователи с похожими предпочтениями):\n",
    "rec.by_similar_users()"
   ]
  },
  {
   "cell_type": "code",
   "execution_count": 25,
   "metadata": {},
   "outputs": [
    {
     "name": "stdout",
     "output_type": "stream",
     "text": [
      "                           artist_name                            title\n",
      "1337084                      Sean Paul      Temperature (Album Version)\n",
      "367813                   Drowning Pool      Reason I'm Alive (Explicit)\n",
      "1478587          Red Hot Chili Peppers  Californication (Album Version)\n",
      "1879291                       DJ Dizzy                       Sexy Bitch\n",
      "728419                       Radiohead        Jigsaw Falling Into Place\n",
      "1419381              Killswitch Engage         My Curse (Album Version)\n",
      "1999271                             U2                          Walk On\n",
      "1057818  Under The Influence Of Giants                      Mama's Room\n",
      "706908         The Cinematic Orchestra                  To Build A Home\n",
      "646739                    Rise Against             The Good Left Undone\n"
     ]
    }
   ],
   "source": [
    "# Выводим список рекомендуемых песен, вышедших в период, \n",
    "# совпадающий с историей прослушиваний пользователя:\n",
    "rec.by_period()"
   ]
  }
 ],
 "metadata": {
  "kernelspec": {
   "display_name": "Python 3",
   "language": "python",
   "name": "python3"
  },
  "language_info": {
   "codemirror_mode": {
    "name": "ipython",
    "version": 3
   },
   "file_extension": ".py",
   "mimetype": "text/x-python",
   "name": "python",
   "nbconvert_exporter": "python",
   "pygments_lexer": "ipython3",
   "version": "3.7.4"
  }
 },
 "nbformat": 4,
 "nbformat_minor": 2
}
